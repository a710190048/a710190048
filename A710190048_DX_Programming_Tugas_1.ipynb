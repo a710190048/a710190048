{
 "cells": [
  {
   "cell_type": "markdown",
   "id": "cbf2b532",
   "metadata": {},
   "source": [
    "# Tugas 1 Algoritma dan Pemrograman\n",
    "\n",
    "## Pertama-tama, ganti NIM di nama file ini. Klik <font color=\"red\">File -> Rename... </font>\n",
    "\n",
    "Lalu isi yang di bawah ini. Untuk mengedit cell ini, double-click di sini.\n",
    "### NAMA : Chelvin Aryo Bimantoro\n",
    "### NIM : A710190048\n",
    "\n",
    "#### Lengkapi kode di bawah dan jalankan\n",
    "\n",
    "### Untuk melarikan suatu cell, tekan Shift + Enter"
   ]
  },
  {
   "cell_type": "code",
   "execution_count": 1,
   "id": "e2d2a1e9",
   "metadata": {},
   "outputs": [
    {
     "name": "stdout",
     "output_type": "stream",
     "text": [
      "NAMA: Chelvin Aryo Bimantoro\n",
      "NIM : A71010190048\n",
      "Kota: Salatiga\n",
      "Mon Oct 24 16:35:44 2022\n",
      "\n",
      "D:\\Kuliah_UMS\\Transformasi_Digital\n",
      "C:\\Users\\PC\\AppData\\Local\\Programs\\Python\\Python310\\python.exe\n",
      "3.10.7 (tags/v3.10.7:6cc6b13, Sep  5 2022, 14:08:36) [MSC v.1933 64 bit (AMD64)]\n"
     ]
    }
   ],
   "source": [
    "from time import ctime\n",
    "from os import getcwd\n",
    "import sys\n",
    "nama = \"Chelvin Aryo Bimantoro\"     ## Ganti dengan namamu\n",
    "NIM = \"A71010190048\"     ## Ganti dengan NIM-mu\n",
    "kota = \"Salatiga\"     ## Ganti dengan kota asalmu\n",
    "print(\"NAMA:\", nama)\n",
    "print(\"NIM :\", NIM)\n",
    "print(\"Kota:\", kota)\n",
    "print(ctime())\n",
    "print(\"\")\n",
    "print(getcwd())\n",
    "print(sys.executable)\n",
    "print(sys.version)"
   ]
  },
  {
   "cell_type": "markdown",
   "id": "8031e0dd",
   "metadata": {},
   "source": [
    "## Soal 1\n",
    "\n",
    "Lengkapi kode di bawah ini sehingga outputnya seperti yang ditunjukkan di bawah. Kodemu harus menghasilkan  segitiga rata kanan yang tingginya dan karakter pembangunnya ditentukan dari input keyboard."
   ]
  },
  {
   "cell_type": "code",
   "execution_count": 1,
   "id": "31dc292c",
   "metadata": {},
   "outputs": [
    {
     "name": "stdout",
     "output_type": "stream",
     "text": [
      "Masukkan angka :8\n",
      "                        \n",
      "                      * \n",
      "                   *  * \n",
      "                *  *  * \n",
      "             *  *  *  * \n",
      "          *  *  *  *  * \n",
      "       *  *  *  *  *  * \n",
      "    *  *  *  *  *  *  * \n",
      " *  *  *  *  *  *  *  * \n",
      "\n"
     ]
    }
   ],
   "source": [
    "string = \"\"\n",
    "\n",
    "c = int(input(\"Masukkan angka :\"))\n",
    "h = c\n",
    "# Looping Baris\n",
    "while h >= 0:\n",
    "\n",
    "\t# Looping Kolom Spasi Kosong\n",
    "\tkol = h\n",
    "\twhile kol > 0:\n",
    "\t\tstring = string + \"   \"\n",
    "\t\tkol = kol - 1\n",
    "\t\n",
    "\t# Looping Kolom Bintang\t\n",
    "\tkanan = 1\n",
    "\twhile kanan < (c - (h-1)):\n",
    "\t\tstring = string + \" * \"\n",
    "\t\tkanan = kanan + 1\t\t\n",
    "\t\t\n",
    "\tstring = string + \"\\n\"\n",
    "\th = h - 1\n",
    "\t\n",
    "print (string)"
   ]
  },
  {
   "cell_type": "markdown",
   "id": "6ec7a2c9",
   "metadata": {},
   "source": [
    "## Soal 2\n",
    "\n",
    "Lengkapi kode di bawah ini sehingga outputnya seperti yang ditunjukkan di bawah. Nama yang kamus masukkan bebas, tapi jangan menaruh nama-nama yang dipakai sebagai contoh di bawah. Untuk mudahnya, masukkan saja nama-nama temanmu saat SMA dulu.\n",
    "\n",
    "Saat kamu mengeksekusi, masukkan setidaknya 7 nama. Sesudah itu jawab \"n\" untuk mengakhiri."
   ]
  },
  {
   "cell_type": "code",
   "execution_count": null,
   "id": "f9a64bca",
   "metadata": {},
   "outputs": [
    {
     "name": "stdout",
     "output_type": "stream",
     "text": [
      "What is your name? Roni\n",
      "What is your name? Toni\n",
      "What is your name? Adel\n",
      "What is your name? Berlin\n",
      "What is your name? Nada\n",
      "What is your name? Ana\n",
      "What is your name? DAni\n",
      "What is your name? Erpan\n"
     ]
    }
   ],
   "source": [
    "k = 'y'\n",
    "while k == 'y' or k == 'Y':\n",
    "    name = input(\"What is your name? \")\n",
    "    l = len(name)\n",
    "    ### lanjutkan\n",
    "\n",
    "###\n"
   ]
  },
  {
   "cell_type": "code",
   "execution_count": null,
   "id": "e8a4ec7f",
   "metadata": {},
   "outputs": [],
   "source": []
  },
  {
   "cell_type": "markdown",
   "id": "afaae459",
   "metadata": {},
   "source": [
    "## Soal 3\n",
    "\n",
    "Buatlah sebuah fungsi dalam Python untuk menghitung luas segitiga, diberikan panjang sisi bawah segitiga itu dan tinggi segitiganya. Contoh pemanggilan:\n",
    "\n",
    "    >>> L = luasSegitiga(7, 10)\n",
    "    >>> L\n",
    "    35.0\n",
    "    >>>\n",
    "\n"
   ]
  },
  {
   "cell_type": "code",
   "execution_count": 16,
   "id": "30214d44",
   "metadata": {},
   "outputs": [
    {
     "name": "stdout",
     "output_type": "stream",
     "text": [
      "\n",
      "Masukan Alas  : 5\n",
      "Masukan Tinggi: 8\n",
      "\n",
      "Luas Segitiga  = 20.00\n"
     ]
    }
   ],
   "source": [
    "s = float(input(\"\\nMasukan Alas  : \"))\n",
    "h = float(input(\"Masukan Tinggi: \"))\n",
    "\n",
    "luas = 0.5*s*h\n",
    "\n",
    "print(\"\\nLuas Segitiga  = %0.2f\" % luas)\n",
    "\n"
   ]
  },
  {
   "cell_type": "code",
   "execution_count": 17,
   "id": "d44a9a2b",
   "metadata": {},
   "outputs": [],
   "source": [
    "## Yang berikut ini untuk memeriksa hasil. Tidak ada yang perlu diubah. Jalankan dengan Shift+Enter\n",
    "\n",
    "L = luasSegitiga(7, 10)\n",
    "J = luasSegitiga(6, 5)\n",
    "if L == 35.0 and J == 15.0 :\n",
    "    print(\"Program benar\")\n",
    "    "
   ]
  },
  {
   "cell_type": "markdown",
   "id": "ba4f9c5a",
   "metadata": {},
   "source": [
    "## Save\n",
    "### lalu\n",
    "\n",
    "## Add, Commit, and then push to GitHub"
   ]
  },
  {
   "cell_type": "code",
   "execution_count": null,
   "id": "ff171ba4",
   "metadata": {},
   "outputs": [],
   "source": []
  },
  {
   "cell_type": "code",
   "execution_count": null,
   "id": "aa1a6fad",
   "metadata": {},
   "outputs": [],
   "source": []
  }
 ],
 "metadata": {
  "kernelspec": {
   "display_name": "Python 3 (ipykernel)",
   "language": "python",
   "name": "python3"
  },
  "language_info": {
   "codemirror_mode": {
    "name": "ipython",
    "version": 3
   },
   "file_extension": ".py",
   "mimetype": "text/x-python",
   "name": "python",
   "nbconvert_exporter": "python",
   "pygments_lexer": "ipython3",
   "version": "3.10.7"
  }
 },
 "nbformat": 4,
 "nbformat_minor": 5
}
