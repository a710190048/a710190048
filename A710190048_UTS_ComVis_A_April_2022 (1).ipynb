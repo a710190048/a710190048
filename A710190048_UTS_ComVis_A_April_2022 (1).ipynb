{
  "metadata": {
    "kernelspec": {
      "name": "python",
      "display_name": "Pyolite",
      "language": "python"
    },
    "language_info": {
      "codemirror_mode": {
        "name": "python",
        "version": 3
      },
      "file_extension": ".py",
      "mimetype": "text/x-python",
      "name": "python",
      "nbconvert_exporter": "python",
      "pygments_lexer": "ipython3",
      "version": "3.8"
    }
  },
  "nbformat_minor": 5,
  "nbformat": 4,
  "cells": [
    {
      "cell_type": "markdown",
      "source": "# UJIAN TENGAH SEMESTER Computer Vision\n\n## Pertama-tama, ganti NIM di nama file ini. Klik <font color=\"red\">File -> Rename... </font>\n\nLalu isi yang di bawah ini. Untuk mengedit cell ini, double-click di sini.\n### NAMA: Chelvin Aryo Bimantoro\n### NIM: A710190048\n\n**CPMK**. Sesudah mengikuti dengan penuh matakuliah ini, mahasiswa diharapkan mampu:\n1. Mendemonstrasikan pemahaman konstruksi gambar grayscale, warna, dan biner.\n2. Mendemonstrasikan pemahaman colorspace RGB dan HSV dan pemanfaatannya di computer vision\n3. Memanipulasi gambar secara sederhana\n\n\n#### Lengkapi kode di bawah dan jalankan\n",
      "metadata": {},
      "id": "8ee8d697"
    },
    {
      "cell_type": "code",
      "source": "from time import ctime\nfrom os import getcwd\nimport sys\nnama = \"Chelvin Aryo Bimantoro\"        ## Ganti dengan namamu\nNIM = \"A710190048\"        ## Ganti dengan NIM-mu\nkota = \"Surakarta\"        ## Ganti dengan kotamu\nprint(\"NAMA:\", nama)\nprint(\"NIM :\", NIM)\nprint(\"Kota:\", kota)\nprint(ctime())\nprint(\"\")\nprint(getcwd())\nprint(sys.executable)\nprint(sys.version)",
      "metadata": {
        "trusted": true
      },
      "execution_count": 1,
      "outputs": [
        {
          "name": "stdout",
          "text": "NAMA: Chelvin Aryo Bimantoro\nNIM : A710190048\nKota: Surakarta\nFri Apr 22 16:10:10 2022\n\n/home/pyodide\n\n3.10.2 (main, Apr  9 2022, 20:52:01) [Clang 14.0.0 (https://github.com/llvm/llvm-project 78e87970af888bbbd5652c31f3a8\n",
          "output_type": "stream"
        }
      ],
      "id": "95237220"
    },
    {
      "cell_type": "markdown",
      "source": "##  Importing the libraries",
      "metadata": {},
      "id": "89b763ab"
    },
    {
      "cell_type": "code",
      "source": "import cv2\nimport numpy as np\nimport matplotlib.pyplot as plt\n%matplotlib inline\nfrom IPython.display import Image, Markdown\n\ncond = \"Jika ada tanda-tanda kecurangan, semisal kemiripan jawaban antar mahasiswa di suatu pertanyaan, \\\nmaka hal itu dapat mengakibatkan nilai NOL di SEMUA pertanyaan (tidak peduli siapa yang aslinya mengerjakan). \\\nJadi, buat jawabanmu lengkap (sehingga unik dan tidak mirip) dengan memberi comments yang cukup dan jangan \\\ndibagikan lewat cara apapun.\"\nsetuju = \"Saya, \" + nama.upper() + \", dengan ini bersaksi bahwa saya mengerjakan ujian ini tanpa interaksi \\\ndengan mahasiswa lain atau orang lain dan saya setuju dengan kondisi yang tertuang di atas.\"\n\nMarkdown('<br><font size=\"4\">{}</font><br><br><font size=\"5\">{}</font>'.format(cond, setuju) )\n",
      "metadata": {},
      "execution_count": null,
      "outputs": [],
      "id": "5dcf81cc"
    },
    {
      "cell_type": "code",
      "source": "Markdown('<br><br><br><br><div align=\"center\"><font size=\"7\">{}</font></div><br><br>'.format(chr(65021) ) )",
      "metadata": {},
      "execution_count": null,
      "outputs": [],
      "id": "c1ce81c6"
    },
    {
      "cell_type": "markdown",
      "source": "# 1 \n\n#### Score: 10, CPMK: 1\nTampilkan file `hpinus.jpg` dengan perintah `Image()` dan perintah `plt.imshow()` pastikan keduanya menampilkan gambar yang sama dengan pewarnaan yang sama. Gambar hutan pinus di yogyakarta yang adem.",
      "metadata": {},
      "id": "2b00c6ac"
    },
    {
      "cell_type": "code",
      "source": "image(filename='hpinus.jpg')\nimage = cv2.imread(\"hpinus.jpg\", cv2.IMREAD_COLOR)\nplt.imshow(image[:,:,::-1])",
      "metadata": {
        "trusted": true
      },
      "execution_count": 10,
      "outputs": [
        {
          "ename": "<class 'NameError'>",
          "evalue": "name 'image' is not defined",
          "traceback": [
            "\u001b[0;31m---------------------------------------------------------------------------\u001b[0m",
            "\u001b[0;31mNameError\u001b[0m                                 Traceback (most recent call last)",
            "Input \u001b[0;32mIn [10]\u001b[0m, in \u001b[0;36m<cell line: 1>\u001b[0;34m()\u001b[0m\n\u001b[0;32m----> 1\u001b[0m \u001b[43mimage\u001b[49m(filename\u001b[38;5;241m=\u001b[39m\u001b[38;5;124m'\u001b[39m\u001b[38;5;124mhpinus.jpg\u001b[39m\u001b[38;5;124m'\u001b[39m)\n\u001b[1;32m      2\u001b[0m image \u001b[38;5;241m=\u001b[39m cv2\u001b[38;5;241m.\u001b[39mimread(\u001b[38;5;124m\"\u001b[39m\u001b[38;5;124mhpinus.jpg\u001b[39m\u001b[38;5;124m\"\u001b[39m, cv2\u001b[38;5;241m.\u001b[39mIMREAD_COLOR)\n\u001b[1;32m      3\u001b[0m plt\u001b[38;5;241m.\u001b[39mimshow(image[:,:,::\u001b[38;5;241m-\u001b[39m\u001b[38;5;241m1\u001b[39m])\n",
            "\u001b[0;31mNameError\u001b[0m: name 'image' is not defined"
          ],
          "output_type": "error"
        }
      ],
      "id": "8cc55a97"
    },
    {
      "cell_type": "markdown",
      "source": "#### Pertanyaan:\nApa beda dua perintah itu? Mengapa perlu slicing pada yang kedua?\n\n#### Jawaban:\n...",
      "metadata": {},
      "id": "b0289f9e"
    },
    {
      "cell_type": "markdown",
      "source": "# 2\n\n#### Score: 10, CPMK: 1,2\n\nAda tiga citra grayscale di folder ini: `Q.png`, `S.png`, dan `T.png`. Mohon di-merge agar menjadi citra tunggal yang berwarna. Warna harus natural dan tepat (langit harus biru, hutan hijau, dll).\n\nTampilkan ketiga gambar itu, lalu tampilkan hasil merge-nya. Gambar menunjukkan Tawangmangu yang sejuk.",
      "metadata": {},
      "id": "e35e0e92"
    },
    {
      "cell_type": "code",
      "source": "# Kode ...",
      "metadata": {},
      "execution_count": null,
      "outputs": [],
      "id": "dfd76e7a"
    },
    {
      "cell_type": "markdown",
      "source": "#### Jawab yang berikut:\nRed channel adalah (Q atau S atau T?): ...\n\nGreen channel adalah: ...\n\nBlue channel adalah: ...",
      "metadata": {},
      "id": "0bc56cfd"
    },
    {
      "cell_type": "markdown",
      "source": "# 3\n#### Score: 10, CPMK: 1, 2\nRupanya ada yang menyimpan gambar dengan terbalik-balik channel-nya. Coba buka `r4_tertukar_channel.jpg`. \n\nTolong diperbaiki ya, lalu di-save sebagai `r4.jpg`. Dampingkan kedua gambar. Gambar akan menunjukkan Raja Ampat yang eksotik. Buka pula gambar yang sudah jadi dengan perintah `Image(\"r4.jpg\")`",
      "metadata": {},
      "id": "c9593710"
    },
    {
      "cell_type": "code",
      "source": "# Kode ...",
      "metadata": {},
      "execution_count": null,
      "outputs": [],
      "id": "37b4f09a"
    },
    {
      "cell_type": "markdown",
      "source": "# 4\n\n#### Score: 10, CPMK: 1, 2\n\nGambar `aab_n.jpg` adalah gambar negative. Pixel (di semua channel) yang tadinya bernilai 255 jadi 0, yang tadinya 0 jadi 255. Yang tadinya bernilai 10, jadi bernilai 245 (yakni 255-10). Yang tadinya bernilai 240, jadi bernilai 15 (yakni 255-240). Yang hitam jadi putih, yang putih jadi hitam. Dan sebagainya.\n\nUbahlah agar menjadi gambar yang positive. Save menjadi `aab_positive.jpg`, yang menggambarkan Alun-alun Bandung yang ramah dan positif!\n\nKamu hanya perlu satu baris perintah untuk membaliknya.\n\n",
      "metadata": {},
      "id": "991082c5"
    },
    {
      "cell_type": "code",
      "source": "# Kode ...",
      "metadata": {},
      "execution_count": null,
      "outputs": [],
      "id": "c5f20269"
    },
    {
      "cell_type": "markdown",
      "source": "# 5\n\n\n#### Score: 10, CPMK: 3\n\nPada gambar sebuah jalan di Tawangmangu di atas, tutuplah mobil putih paling depan (di sisi kanan bawah) dengan kotak warna Tosca. \n\nWarna \"Tosca\" dapat dicari di internet.\n",
      "metadata": {},
      "id": "eab55aea"
    },
    {
      "cell_type": "code",
      "source": "# Kode ...",
      "metadata": {},
      "execution_count": null,
      "outputs": [],
      "id": "39145d30"
    },
    {
      "cell_type": "markdown",
      "source": "# 6\n\n#### Score: 10, CPMK: 3\n\nPada gambar hutan pinus yogyakarta di atas, berilah kotak kuning pada dua orang yang sedang berjalan-jalan di situ. Beri keterangan di bawahnya, misal \"dua orang sedang berjalan-jalan\".",
      "metadata": {},
      "id": "47cfabb1"
    },
    {
      "cell_type": "code",
      "source": "# Kode ...\n",
      "metadata": {},
      "execution_count": null,
      "outputs": [],
      "id": "4fa7f270"
    },
    {
      "cell_type": "markdown",
      "source": "# 7\n\n#### Score: 10, CPMK: 3\n\nPada gambar `tomat_jeruk.jpg`, buatlah sebuah filter untuk menangkap tomat-nya saja. Tentunya akan lebih mudah kalau kamu membuka dengan colorspace HSV.",
      "metadata": {},
      "id": "60477998"
    },
    {
      "cell_type": "code",
      "source": "# Kode ...",
      "metadata": {},
      "execution_count": null,
      "outputs": [],
      "id": "5de2bfae"
    },
    {
      "cell_type": "markdown",
      "source": "#### Pertanyaan:\nMengapa untuk tugas semacam ini, colorspace HSV lebih cocok daripada colorspace RGB (atau BGR)?\n#### Jawaban:\n...",
      "metadata": {},
      "id": "1d5b0667"
    },
    {
      "cell_type": "markdown",
      "source": "# 8\n\n\n#### Score: 15, CPMK: 3\n\nPada gambar hutan pinus di atas, beri judul transparent dengan file dari `hpkuning.jpg`. Kamu harus membalik tulisannya agar tegak dan terbaca kiri ke kanan dengan jelas!\n\nCampur (*blend*) kedua gambar di atas dengan ketentuan:\n- Gambar hutan pinus bobot 1\n- Gambar tulisan kuning bobot 0.3, tulisan kuning akan terlihat samar. \n  - Ketentuan letak: pojok tulisan kiri atas bergabung di pixel (40, 40) gambar utama, dan berakhir 40 pixel dari kanan. Tulisan akan tampak simetris di tengah-atas. Jadi kamu harus menyesuaikan ukurannya. Saat penyesuaian ukuran, aspect ratio tidak boleh berubah.\n  ",
      "metadata": {},
      "id": "cfffa391"
    },
    {
      "cell_type": "code",
      "source": "# Kode ...",
      "metadata": {},
      "execution_count": null,
      "outputs": [],
      "id": "a51fd275"
    },
    {
      "cell_type": "markdown",
      "source": "# 9\n\n\n#### Score: 15, CPMK: 3\n\nMasih dengan gambar hutan pinus, buatlah gambar hutan pinus itu sebagai background. Buka gambar `pti_2022.png`. Putar dan cerminkan, jadikan tulisan kuningnya menjadi \"bolong\". \n\nTempelkan tulisan yang bolong itu ke gambar utama, sehingga sebagian hutan pinus terlihat lewat out-line tulisan.  Buat agar ukuran tulisan bisa fit ke gambar hutan pinus, dengan tidak mengorbankan aspect ratio. Kemungkinan akan ada strip sisa gambar atas dan bawah. Buat agar simetris.\n\nProsesnya mirip seperti di bawah ini.",
      "metadata": {},
      "id": "689d26f1"
    },
    {
      "cell_type": "code",
      "source": "Image(\"Logo_Manipulation.png\")",
      "metadata": {},
      "execution_count": null,
      "outputs": [],
      "id": "405240a8"
    },
    {
      "cell_type": "code",
      "source": "# Kode ...",
      "metadata": {},
      "execution_count": null,
      "outputs": [],
      "id": "810a9cf8"
    },
    {
      "cell_type": "markdown",
      "source": "##### ----- Akhir UTS",
      "metadata": {},
      "id": "b86fa593"
    },
    {
      "cell_type": "markdown",
      "source": "**PUSH to GitHub**",
      "metadata": {},
      "id": "8fe2d5e2"
    },
    {
      "cell_type": "code",
      "source": "",
      "metadata": {},
      "execution_count": null,
      "outputs": [],
      "id": "41bd7000"
    }
  ]
}