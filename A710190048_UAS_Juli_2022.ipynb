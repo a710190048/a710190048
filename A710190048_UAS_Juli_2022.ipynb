{
 "cells": [
  {
   "cell_type": "markdown",
   "id": "31862caf",
   "metadata": {},
   "source": [
    "# UAS Computer Vision, Juli 2022\n",
    "\n",
    "##  <font color=\"green\"> Ini adalah sebagian dari soal UAS. Sebagian yang lain sudah dikerjakan di atas kertas di kampus.</font>\n",
    "\n",
    "\n",
    "## Pertama-tama, ganti NIM di nama file ini. Klik <font color=\"red\">File -> Rename... </font>\n",
    "\n",
    "Lalu isi yang di bawah ini. Untuk mengedit cell ini, double-click di sini.\n",
    "### NAMA: ....\n",
    "### NIM: ..."
   ]
  },
  {
   "cell_type": "code",
   "execution_count": null,
   "id": "b5706c54",
   "metadata": {},
   "outputs": [],
   "source": [
    "from time import ctime\n",
    "from os import getcwd\n",
    "import sys\n",
    "nama = \"NAMA SAYA\"        ## Ganti dengan namamu\n",
    "NIM = \"A710250999\"        ## Ganti dengan NIM-mu\n",
    "kota = \"Surakarta\"        ## Ganti dengan kotamu\n",
    "print(\"NAMA:\", nama)\n",
    "print(\"NIM :\", NIM)\n",
    "print(\"Kota:\", kota)\n",
    "print(ctime())\n",
    "print(\"\")\n",
    "print(getcwd())\n",
    "print(sys.executable)\n",
    "print(sys.version)"
   ]
  },
  {
   "cell_type": "markdown",
   "id": "6ce9f02a",
   "metadata": {},
   "source": [
    "##  Importing the libraries\n",
    "\n",
    "Juga, kamu wajib setuju dengan syarat dan kondisi di bawah."
   ]
  },
  {
   "cell_type": "code",
   "execution_count": null,
   "id": "482f6909",
   "metadata": {},
   "outputs": [],
   "source": [
    "import cv2\n",
    "import numpy as np\n",
    "import matplotlib.pyplot as plt\n",
    "%matplotlib inline\n",
    "from IPython.display import Image, Markdown\n",
    "\n",
    "cond = \"Jika ada tanda-tanda kecurangan, semisal kemiripan jawaban antar mahasiswa di suatu pertanyaan, \\\n",
    "maka hal itu dapat mengakibatkan nilai NOL di SEMUA pertanyaan (tidak peduli siapa yang aslinya mengerjakan). \\\n",
    "Jadi, buat jawabanmu lengkap (sehingga unik dan tidak mirip) dengan memberi comments yang cukup dan jangan \\\n",
    "dibagikan lewat cara apapun.\"\n",
    "setuju = \"Saya, \" + nama.upper() + \", dengan ini bersaksi bahwa saya mengerjakan ujian ini tanpa interaksi \\\n",
    "dengan mahasiswa lain atau orang lain dan saya setuju dengan kondisi yang tertuang di atas.\"\n",
    "\n",
    "Markdown('<br><font size=\"4\">{}</font><br><br><font size=\"5\">{}</font>'.format(cond, setuju) )"
   ]
  },
  {
   "cell_type": "code",
   "execution_count": null,
   "id": "0c34fd12",
   "metadata": {
    "scrolled": true
   },
   "outputs": [],
   "source": [
    "Markdown('<br><br><br><br><div align=\"center\"><font size=\"7\">{}</font></div><br><br>'.format(chr(65021) ) )"
   ]
  },
  {
   "cell_type": "markdown",
   "id": "e57e781c",
   "metadata": {},
   "source": [
    "# 1 \n",
    "\n",
    "Buka gambar `student_green.png`. Memakai OpenCV, hilangkan latar hijaunya. **Semua perintah harus diberi komentar yang menjelaskan.** \n",
    "\n",
    "Tampilkan berdampingan dengan gambar aslinya.\n"
   ]
  },
  {
   "cell_type": "code",
   "execution_count": null,
   "id": "be4e0263",
   "metadata": {},
   "outputs": [],
   "source": []
  },
  {
   "cell_type": "markdown",
   "id": "1db4f998",
   "metadata": {},
   "source": [
    "# 2\n",
    "\n",
    "Buat histogram (3 channel) untuk gambar asli dan gambar yang sudah dihilangkan latar belakangnya. Tampilkan berdampingan\n",
    "\n",
    "Apa perbedaan yang mencolok? Mengapa begitu?"
   ]
  },
  {
   "cell_type": "code",
   "execution_count": null,
   "id": "e0cfd180",
   "metadata": {},
   "outputs": [],
   "source": []
  },
  {
   "cell_type": "markdown",
   "id": "6030789d",
   "metadata": {},
   "source": [
    "# 3 \n",
    "\n",
    "Memakai OpenCV, ganti latar belakang yang tadinya hijau dengan gambar `pantai.jpg`. Sesuaikan ukurannya agar tampak bagus. Semua proses harus memakai OpenCV / numpy. **Semua perintah harus diberi komentar yang menjelaskan.**\n",
    "\n",
    "\n",
    "Tampilkan berdampingan dengan gambar aslinya."
   ]
  },
  {
   "cell_type": "code",
   "execution_count": null,
   "id": "4c1df213",
   "metadata": {},
   "outputs": [],
   "source": []
  },
  {
   "cell_type": "markdown",
   "id": "6c5a096d",
   "metadata": {},
   "source": [
    "# 4\n",
    "\n",
    "Buat histogram (3 channel) untuk gambar asli, gambar yang sudah dihilangkan latar belakangnya, serta gambar yang sudah berlatar pantai. Tampilkan ketiganya berdampingan\n",
    "\n",
    "Apa perbedaan yang mencolok? Mengapa begitu?"
   ]
  },
  {
   "cell_type": "code",
   "execution_count": null,
   "id": "3b10a1f6",
   "metadata": {},
   "outputs": [],
   "source": []
  },
  {
   "cell_type": "markdown",
   "id": "41ee5345",
   "metadata": {},
   "source": [
    "## Click Kernel  -->  Restart & Run All\n",
    "\n",
    "## Save\n",
    "\n",
    "## Add, commit, then push to GitHub"
   ]
  },
  {
   "cell_type": "code",
   "execution_count": null,
   "id": "1778f43d",
   "metadata": {},
   "outputs": [],
   "source": []
  }
 ],
 "metadata": {
  "kernelspec": {
   "display_name": "Python 3 (ipykernel)",
   "language": "python",
   "name": "python3"
  },
  "language_info": {
   "codemirror_mode": {
    "name": "ipython",
    "version": 3
   },
   "file_extension": ".py",
   "mimetype": "text/x-python",
   "name": "python",
   "nbconvert_exporter": "python",
   "pygments_lexer": "ipython3",
   "version": "3.9.6"
  }
 },
 "nbformat": 4,
 "nbformat_minor": 5
}
